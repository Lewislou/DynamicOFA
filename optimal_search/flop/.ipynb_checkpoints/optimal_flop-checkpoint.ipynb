{
 "cells": [
  {
   "cell_type": "code",
   "execution_count": 3,
   "metadata": {},
   "outputs": [],
   "source": [
    "import pickle\n",
    "import numpy as np\n",
    "top1s = []\n",
    "flops = []\n",
    "configs = []\n",
    "bn_lists = []\n",
    "for i in range(1,58):\n",
    "    result=[]\n",
    "    file=open('/home/lewislou/OFAorigin/tutorial/subnetsearch/flop_accu/flop_acc'+str(i)+'.pickle',\"rb\")\n",
    "    result=pickle.load(file) #读取文件到list\n",
    "    top1s.append(result['top1'])\n",
    "    flops.append(result['flop'])\n",
    "    configs.append(result['configs'])\n",
    "    bn_lists.append(result['bn_lists'])"
   ]
  },
  {
   "cell_type": "code",
   "execution_count": 13,
   "metadata": {},
   "outputs": [],
   "source": [
    "former=[]\n",
    "file=open('nets_6.pickle',\"rb\")\n",
    "former_result=pickle.load(file) #读取文件到list\n",
    "former_top1s = [74.202 ,74.968,76.134 ,77.54,78.346 ,79.03 ]\n",
    "former_configs = former_result['configs']\n",
    "former_bn = former_result['bn_lists']\n",
    "former_flops = [212.13,230.19,275.47,337.35,497.40,693.5]"
   ]
  },
  {
   "cell_type": "code",
   "execution_count": 14,
   "metadata": {},
   "outputs": [],
   "source": [
    "top1s = top1s + former_top1s\n",
    "flops = flops + former_flops\n",
    "configs = configs + former_configs\n",
    "bn_lists = bn_lists + former_bn"
   ]
  },
  {
   "cell_type": "code",
   "execution_count": 29,
   "metadata": {},
   "outputs": [
    {
     "data": {
      "text/plain": [
       "array([[  72.888   ,  139.464959],\n",
       "       [  73.948   ,  159.828596],\n",
       "       [  74.626   ,  179.801088],\n",
       "       [  74.868   ,  198.920904],\n",
       "       [  75.282   ,  217.847971],\n",
       "       [  75.528   ,  238.651932],\n",
       "       [  75.676   ,  258.73479 ],\n",
       "       [  75.856   ,  278.362794],\n",
       "       [  76.71    ,  297.610323],\n",
       "       [  77.334   ,  319.994581],\n",
       "       [  77.38    ,  337.466548],\n",
       "       [  77.136   ,  357.554942],\n",
       "       [  77.382   ,  376.97904 ],\n",
       "       [  77.62    ,  399.783974],\n",
       "       [  77.494   ,  413.481526],\n",
       "       [  77.576   ,  433.816758],\n",
       "       [  77.914   ,  457.098114],\n",
       "       [  77.956   ,  470.918575],\n",
       "       [  78.08    ,  495.61061 ],\n",
       "       [  77.968   ,  503.138606],\n",
       "       [  78.03    ,  526.762024],\n",
       "       [  78.352   ,  552.480582],\n",
       "       [  78.304   ,  574.081778],\n",
       "       [  78.472   ,  598.17783 ],\n",
       "       [  78.4     ,  618.967682],\n",
       "       [  68.912   ,   94.950769],\n",
       "       [  69.686   ,   99.531225],\n",
       "       [  69.832   ,  103.948505],\n",
       "       [  70.022   ,  109.088937],\n",
       "       [  70.928   ,  114.160247],\n",
       "       [  71.346   ,  119.571319],\n",
       "       [  71.248   ,  123.981951],\n",
       "       [  71.546   ,  129.244408],\n",
       "       [  72.148   ,  134.151092],\n",
       "       [  78.23    ,  644.64595 ],\n",
       "       [  78.224   ,  635.642122],\n",
       "       [  78.194   ,  651.79445 ],\n",
       "       [  78.316   ,  639.489306],\n",
       "       [  78.186   ,  662.972834],\n",
       "       [  78.338   ,  688.566938],\n",
       "       [  78.324   ,  701.214314],\n",
       "       [  78.274   ,  699.284106],\n",
       "       [  78.246   ,  671.204474],\n",
       "       [  78.38    ,  688.747506],\n",
       "       [  77.768   ,  499.494556],\n",
       "       [  77.85    ,  515.545918],\n",
       "       [  77.758   ,  536.124886],\n",
       "       [  77.794   ,  555.51227 ],\n",
       "       [  78.128   ,  576.002066],\n",
       "       [  78.414   ,  599.205944],\n",
       "       [  78.226   ,  592.222202],\n",
       "       [  78.02    ,  589.500866],\n",
       "       [  78.29    ,  627.235096],\n",
       "       [  78.34    ,  675.544586],\n",
       "       [  78.452   ,  688.747506],\n",
       "       [  78.23    ,  698.443658],\n",
       "       [  78.288   ,  696.468338],\n",
       "       [  74.202   ,  212.13    ],\n",
       "       [  74.968   ,  230.19    ],\n",
       "       [  76.134   ,  275.47    ],\n",
       "       [  77.54    ,  337.35    ],\n",
       "       [  78.346   ,  497.4     ],\n",
       "       [  79.03    ,  693.5     ]])"
      ]
     },
     "execution_count": 29,
     "metadata": {},
     "output_type": "execute_result"
    }
   ],
   "source": [
    "data1 = []\n",
    "for i in range(len(top1s)):\n",
    "    data1.append([top1s[i],flops[i]])\n",
    "data = np.array(data1)\n",
    "data"
   ]
  },
  {
   "cell_type": "code",
   "execution_count": 30,
   "metadata": {},
   "outputs": [
    {
     "data": {
      "text/plain": [
       "(63, 63, 63)"
      ]
     },
     "execution_count": 30,
     "metadata": {},
     "output_type": "execute_result"
    }
   ],
   "source": [
    "len(data),len(configs),len(bn_lists)"
   ]
  },
  {
   "cell_type": "code",
   "execution_count": 31,
   "metadata": {},
   "outputs": [
    {
     "data": {
      "image/png": "[encoded data removed]",
      "text/plain": [
       "<Figure size 576x432 with 1 Axes>"
      ]
     },
     "metadata": {
      "needs_background": "light"
     },
     "output_type": "display_data"
    }
   ],
   "source": [
    "###Overall points\n",
    "#data3 = np.delete(data3,12,axis = 0)\n",
    "from matplotlib import pyplot as plt\n",
    "import numpy as np\n",
    "plt.figure(figsize=(8,6))\n",
    "#plt.plot(latency_list,top1s)\n",
    "n=np.arange(len(data))\n",
    "plt.scatter(data[:,1],data[:,0],c='blue',label='Sub-optimal networks')\n",
    "\n",
    "#for i,txt in enumerate(n):\n",
    "    #plt.annotate(txt,(data[i][1],data[i][0]))\n",
    "plt.xlabel('FLOP (M)', size=16)\n",
    "plt.ylabel('Top1-accuracy (%)', size=16)\n",
    "plt.rcParams['axes.axisbelow'] = True\n",
    "plt.grid(True)\n",
    "#plt.xticks(np.arange(35,90,5))\n",
    "#plt.yticks(np.arange(65,80,1))\n",
    "#plt.show()\n",
    "plt.legend(loc='lower right',prop = {'size':12})\n",
    "plt.tick_params(labelsize=14)\n"
   ]
  },
  {
   "cell_type": "code",
   "execution_count": 32,
   "metadata": {},
   "outputs": [],
   "source": [
    "label = [1 for _ in range(len(data))]\n",
    "for d in range(len(data)):\n",
    "    for i in range(len(data)):\n",
    "        if data[d][0] < data[i][0] and data[d][1] > data[i][1]:\n",
    "            label[d] = 0\n",
    "result = []\n",
    "result_configs = []\n",
    "result_bn = []\n",
    "for i in range(len(label)):\n",
    "    if label[i] == 1:\n",
    "        result.append(data[i])\n",
    "        result_configs.append(configs[i])\n",
    "        result_bn.append(bn_lists[i])"
   ]
  },
  {
   "cell_type": "code",
   "execution_count": 33,
   "metadata": {},
   "outputs": [
    {
     "data": {
      "text/plain": [
       "((27, 2), (27,), (27, 1, 2))"
      ]
     },
     "execution_count": 33,
     "metadata": {},
     "output_type": "execute_result"
    }
   ],
   "source": [
    "data = np.array(result)\n",
    "index = data[:,1].argsort()\n",
    "data = data[index]\n",
    "result_configs = np.array(result_configs)\n",
    "result_configs = result_configs[index]\n",
    "result_bn = np.array(result_bn)\n",
    "result_bn = result_bn[index]\n",
    "data.shape,result_configs.shape,result_bn.shape"
   ]
  },
  {
   "cell_type": "code",
   "execution_count": 45,
   "metadata": {},
   "outputs": [
    {
     "data": {
      "image/png": "[encoded data removed]",
      "text/plain": [
       "<Figure size 576x432 with 1 Axes>"
      ]
     },
     "metadata": {
      "needs_background": "light"
     },
     "output_type": "display_data"
    }
   ],
   "source": [
    "from matplotlib import pyplot as plt\n",
    "import numpy as np\n",
    "plt.figure(figsize=(8,6))\n",
    "#plt.plot(latency_list,top1s)\n",
    "n=np.arange(len(data))\n",
    "plt.scatter(data[:,1],data[:,0])\n",
    "for i,txt in enumerate(n):\n",
    "    plt.annotate(txt,(data[i][1],data[i][0]))\n",
    "plt.xlabel('FLOP (M)', size=12)\n",
    "plt.ylabel('Top-1 Accuracy (%)', size=12)\n",
    "#plt.legend(loc='lower right')\n",
    "plt.grid(True)"
   ]
  },
  {
   "cell_type": "code",
   "execution_count": 35,
   "metadata": {},
   "outputs": [
    {
     "data": {
      "text/plain": [
       "array([[  68.912   ,   94.950769],\n",
       "       [  69.686   ,   99.531225],\n",
       "       [  69.832   ,  103.948505],\n",
       "       [  70.022   ,  109.088937],\n",
       "       [  70.928   ,  114.160247],\n",
       "       [  71.346   ,  119.571319],\n",
       "       [  71.546   ,  129.244408],\n",
       "       [  72.148   ,  134.151092],\n",
       "       [  72.888   ,  139.464959],\n",
       "       [  73.948   ,  159.828596],\n",
       "       [  74.626   ,  179.801088],\n",
       "       [  74.868   ,  198.920904],\n",
       "       [  75.282   ,  217.847971],\n",
       "       [  75.528   ,  238.651932],\n",
       "       [  75.676   ,  258.73479 ],\n",
       "       [  76.134   ,  275.47    ],\n",
       "       [  76.71    ,  297.610323],\n",
       "       [  77.334   ,  319.994581],\n",
       "       [  77.54    ,  337.35    ],\n",
       "       [  77.62    ,  399.783974],\n",
       "       [  77.914   ,  457.098114],\n",
       "       [  77.956   ,  470.918575],\n",
       "       [  78.08    ,  495.61061 ],\n",
       "       [  78.346   ,  497.4     ],\n",
       "       [  78.352   ,  552.480582],\n",
       "       [  78.472   ,  598.17783 ],\n",
       "       [  79.03    ,  693.5     ]])"
      ]
     },
     "execution_count": 35,
     "metadata": {},
     "output_type": "execute_result"
    }
   ],
   "source": [
    "data"
   ]
  },
  {
   "cell_type": "code",
   "execution_count": 44,
   "metadata": {},
   "outputs": [],
   "source": [
    "data = np.delete(data,18,axis = 0)\n",
    "result_configs = np.delete(result_configs,18,axis = 0)\n",
    "result_bn = np.delete(result_bn,18,axis = 0)"
   ]
  },
  {
   "cell_type": "code",
   "execution_count": 47,
   "metadata": {},
   "outputs": [
    {
     "data": {
      "text/plain": [
       "((22, 2), (22,), (22, 1, 2))"
      ]
     },
     "execution_count": 47,
     "metadata": {},
     "output_type": "execute_result"
    }
   ],
   "source": [
    "data.shape,result_configs.shape,result_bn.shape"
   ]
  },
  {
   "cell_type": "code",
   "execution_count": 48,
   "metadata": {},
   "outputs": [],
   "source": [
    "with open('22_flop_gpu_nets.pickle','wb') as file:\n",
    "    pickle.dump(\n",
    "    {\n",
    "        'accu_lat':list(data),\n",
    "        'configs':list(result_configs),\n",
    "        'bn_list':result_bn\n",
    "    },\n",
    "file,pickle.HIGHEST_PROTOCOL)"
   ]
  },
  {
   "cell_type": "code",
   "execution_count": 49,
   "metadata": {},
   "outputs": [],
   "source": [
    "flops = data[:,1]"
   ]
  },
  {
   "cell_type": "code",
   "execution_count": 50,
   "metadata": {},
   "outputs": [
    {
     "data": {
      "text/plain": [
       "array([  94.950769,  109.088937,  114.160247,  119.571319,  134.151092,\n",
       "        139.464959,  159.828596,  179.801088,  198.920904,  217.847971,\n",
       "        238.651932,  275.47    ,  297.610323,  319.994581,  337.35    ,\n",
       "        399.783974,  457.098114,  470.918575,  497.4     ,  552.480582,\n",
       "        598.17783 ,  693.5     ])"
      ]
     },
     "execution_count": 50,
     "metadata": {},
     "output_type": "execute_result"
    }
   ],
   "source": [
    "flops"
   ]
  },
  {
   "cell_type": "code",
   "execution_count": 51,
   "metadata": {},
   "outputs": [
    {
     "data": {
      "text/plain": [
       "array([ 68.912,  70.022,  70.928,  71.346,  72.148,  72.888,  73.948,\n",
       "        74.626,  74.868,  75.282,  75.528,  76.134,  76.71 ,  77.334,\n",
       "        77.54 ,  77.62 ,  77.914,  77.956,  78.346,  78.352,  78.472,\n",
       "        79.03 ])"
      ]
     },
     "execution_count": 51,
     "metadata": {},
     "output_type": "execute_result"
    }
   ],
   "source": [
    "accu = data[:,0]\n",
    "accu"
   ]
  },
  {
   "cell_type": "code",
   "execution_count": null,
   "metadata": {},
   "outputs": [],
   "source": []
  }
 ],
 "metadata": {
  "kernelspec": {
   "display_name": "Python 3",
   "language": "python",
   "name": "python3"
  },
  "language_info": {
   "codemirror_mode": {
    "name": "ipython",
    "version": 3
   },
   "file_extension": ".py",
   "mimetype": "text/x-python",
   "name": "python",
   "nbconvert_exporter": "python",
   "pygments_lexer": "ipython3",
   "version": "3.7.0"
  }
 },
 "nbformat": 4,
 "nbformat_minor": 4
}
