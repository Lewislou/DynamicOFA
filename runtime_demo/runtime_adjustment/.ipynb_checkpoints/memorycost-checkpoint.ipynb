{
 "cells": [
  {
   "cell_type": "code",
   "execution_count": 14,
   "metadata": {},
   "outputs": [
    {
     "name": "stderr",
     "output_type": "stream",
     "text": [
      "/home/lewislou/.local/lib/python3.6/site-packages/torch/distributed/distributed_c10d.py:101: UserWarning: torch.distributed.reduce_op is deprecated, please use torch.distributed.ReduceOp instead\n",
      "  warnings.warn(\"torch.distributed.reduce_op is deprecated, please use \"\n"
     ]
    },
    {
     "name": "stdout",
     "output_type": "stream",
     "text": [
      "Successfully imported all packages and configured random seed to 1!\n",
      "The OFA Network is ready.\n",
      "Using GPU.\n",
      "The ImageNet dataloader is ready.\n"
     ]
    },
    {
     "data": {
      "text/plain": [
       "Dataset ImageFolder\n",
       "    Number of datapoints: 50000\n",
       "    Root Location: /home/lewislou/data/testing/val\n",
       "    Transforms (if any): Compose(\n",
       "                             Resize(size=256, interpolation=PIL.Image.BILINEAR)\n",
       "                             CenterCrop(size=(224, 224))\n",
       "                             ToTensor()\n",
       "                             Normalize(mean=[0.485, 0.456, 0.406], std=[0.229, 0.224, 0.225])\n",
       "                         )\n",
       "    Target Transforms (if any): None"
      ]
     },
     "execution_count": 14,
     "metadata": {},
     "output_type": "execute_result"
    }
   ],
   "source": [
    "# In[ ]:\n",
    "\n",
    "\n",
    "import os\n",
    "import torch\n",
    "import torch.nn as nn\n",
    "from torchvision import transforms, datasets\n",
    "import numpy as np\n",
    "import time\n",
    "import random\n",
    "import math\n",
    "import copy\n",
    "from matplotlib import pyplot as plt\n",
    "import pickle\n",
    "from ofa.model_zoo import ofa_net\n",
    "from ofa.utils import download_url\n",
    "\n",
    "#from subnetfinder import EvolutionFinder\n",
    "from imagenet_eval_helper import evaluate_ofa_subnet, evaluate_ofa_specialized\n",
    "#os.environ['CUDA_VISIBLE_DEVICES'] = '1,2,3'\n",
    "# set random seed\n",
    "random_seed = 1\n",
    "random.seed(random_seed)\n",
    "np.random.seed(random_seed)\n",
    "torch.manual_seed(random_seed)\n",
    "print('Successfully imported all packages and configured random seed to %d!'%random_seed)\n",
    "ofa_network = ofa_net('ofa_mbv3_d234_e346_k357_w1.2', pretrained=True)\n",
    "print('The OFA Network is ready.')\n",
    "\n",
    "cuda_available = torch.cuda.is_available()\n",
    "if cuda_available:\n",
    "    torch.backends.cudnn.enabled = True\n",
    "    torch.backends.cudnn.benchmark = True\n",
    "    torch.cuda.manual_seed(random_seed)\n",
    "    print('Using GPU.')\n",
    "else:\n",
    "    print('Using CPU.')\n",
    "\n",
    "imagenet_data_path = '/home/lewislou/data/testing'\n",
    "#imagenet_data_path = '/home/lewislou/data/imagenet'\n",
    "def build_val_transform(size):\n",
    "    return transforms.Compose([\n",
    "        transforms.Resize(int(math.ceil(size / 0.875))),\n",
    "        transforms.CenterCrop(size),\n",
    "        transforms.ToTensor(),\n",
    "        transforms.Normalize(\n",
    "            mean=[0.485, 0.456, 0.406],\n",
    "            std=[0.229, 0.224, 0.225]\n",
    "        ),\n",
    "    ])\n",
    "\n",
    "data_loader = torch.utils.data.DataLoader(\n",
    "    datasets.ImageFolder(\n",
    "        root=os.path.join(imagenet_data_path, 'val'),\n",
    "        transform=build_val_transform(224)\n",
    "        ),\n",
    "    batch_size=16,  # test batch size\n",
    "    shuffle=False,\n",
    "    #num_workers=16,  # number of workers for the data loader\n",
    "    pin_memory=False,\n",
    "    drop_last=False,\n",
    "    )\n",
    "print('The ImageNet dataloader is ready.')\n",
    "data_loader.dataset"
   ]
  },
  {
   "cell_type": "code",
   "execution_count": null,
   "metadata": {},
   "outputs": [],
   "source": [
    "def picknet(level):\n",
    "    random_seed = 1\n",
    "    random.seed(random_seed)\n",
    "    np.random.seed(random_seed)\n",
    "    torch.manual_seed(random_seed)\n",
    "    print('Successfully imported all packages and configured random seed to %d!'%random_seed)\n",
    "    ofa_network = ofa_net('ofa_mbv3_d234_e346_k357_w1.2', pretrained=True)\n",
    "    print('The OFA Network is ready.')\n",
    "    \n",
    "    cuda_available = torch.cuda.is_available()\n",
    "    if cuda_available:\n",
    "        torch.backends.cudnn.enabled = True\n",
    "        torch.backends.cudnn.benchmark = True\n",
    "        torch.cuda.manual_seed(random_seed)\n",
    "        print('Using GPU.')\n",
    "    else:\n",
    "        print('Using CPU.')\n",
    "\n",
    "    imagenet_data_path = '/home/lewislou/data/testing'\n",
    "#imagenet_data_path = '/home/lewislou/data/imagenet'\n",
    "    def build_val_transform(size):\n",
    "        return transforms.Compose([\n",
    "            transforms.Resize(int(math.ceil(size / 0.875))),\n",
    "            transforms.CenterCrop(size),\n",
    "            transforms.ToTensor(),\n",
    "            transforms.Normalize(\n",
    "                mean=[0.485, 0.456, 0.406],\n",
    "                std=[0.229, 0.224, 0.225]\n",
    "            ),\n",
    "        ])\n",
    "\n",
    "    data_loader = torch.utils.data.DataLoader(\n",
    "        datasets.ImageFolder(\n",
    "            root=os.path.join(imagenet_data_path, 'val'),\n",
    "            transform=build_val_transform(224)\n",
    "            ),\n",
    "        batch_size=16,  # test batch size\n",
    "        shuffle=False,\n",
    "        #num_workers=16,  # number of workers for the data loader\n",
    "        pin_memory=False,\n",
    "        drop_last=False,\n",
    "        )\n",
    "    print('The ImageNet dataloader is ready.')\n",
    "    data_loader.dataset\n",
    "    mylist=[]\n",
    "    file=open(r\"/home/lewislou/OFAorigin/tutorial/subnetsearch/picked_subnets/nets_7.pickle\",\"rb\")\n",
    "    mylist=pickle.load(file) #读取文件到list\\\n",
    "    result=[]\n",
    "    file=open('bn'+str(level)+'.pickle',\"rb\")\n",
    "    result=pickle.load(file) #读取文件到list\n",
    "    bn_list = result['bn_list']\n",
    "    top1s = []\n",
    "    latency_list = []\n",
    "    init_latencys = []\n",
    "    net_config = mylist['configs'][level]\n",
    "    print(net_config)\n",
    "    top1,latency,init_latency= evaluate_ofa_subnet(\n",
    "        ofa_network,\n",
    "        imagenet_data_path,\n",
    "        net_config,\n",
    "        data_loader,\n",
    "        batch_size=16,\n",
    "        bn_list = bn_list[0])\n",
    "    if top1 == 0:\n",
    "        return False\n",
    "    else:\n",
    "        print('accuracy and inference latency',top1,latency)"
   ]
  },
  {
   "cell_type": "code",
   "execution_count": 18,
   "metadata": {},
   "outputs": [
    {
     "name": "stdout",
     "output_type": "stream",
     "text": [
      "                types |   # objects |   total size\n",
      "===================== | =========== | ============\n",
      "                  str |          21 |      3.93 KB\n",
      "                  set |           0 |      1.50 KB\n",
      "                 dict |           1 |      1.30 KB\n",
      "                bytes |           9 |   1015     B\n",
      "                tuple |           5 |    368     B\n",
      "              weakref |           3 |    240     B\n",
      "                 cell |           3 |    144     B\n",
      "  function (<lambda>) |           1 |    136     B\n",
      "                float |           3 |     72     B\n",
      "        list_iterator |          -1 |    -56     B\n",
      "                  int |         -10 |   -280     B\n",
      "                 list |          -9 |   -360     B\n"
     ]
    }
   ],
   "source": []
  },
  {
   "cell_type": "code",
   "execution_count": 16,
   "metadata": {},
   "outputs": [],
   "source": [
    "parameters = dir()"
   ]
  },
  {
   "cell_type": "code",
   "execution_count": 12,
   "metadata": {},
   "outputs": [
    {
     "name": "stdout",
     "output_type": "stream",
     "text": [
      "In\n",
      "51\n",
      "Out\n",
      "52\n",
      "_\n",
      "50\n",
      "_1\n",
      "51\n",
      "_10\n",
      "52\n",
      "_2\n",
      "51\n",
      "__\n",
      "51\n",
      "___\n",
      "52\n",
      "__builtin__\n",
      "60\n",
      "__builtins__\n",
      "61\n",
      "__doc__\n",
      "56\n",
      "__loader__\n",
      "59\n",
      "__name__\n",
      "57\n",
      "__package__\n",
      "60\n",
      "__spec__\n",
      "57\n",
      "_dh\n",
      "52\n",
      "_i\n",
      "51\n",
      "_i1\n",
      "52\n",
      "_i10\n",
      "53\n",
      "_i11\n",
      "53\n",
      "_i2\n",
      "52\n",
      "_i3\n",
      "52\n",
      "_i4\n",
      "52\n",
      "_i5\n",
      "52\n",
      "_i6\n",
      "52\n",
      "_i7\n",
      "52\n",
      "_i8\n",
      "52\n",
      "_i9\n",
      "52\n",
      "_ih\n",
      "52\n",
      "_ii\n",
      "52\n",
      "_iii\n",
      "53\n",
      "_oh\n",
      "52\n",
      "bn_list\n",
      "56\n",
      "build_val_transform\n",
      "68\n",
      "copy\n",
      "53\n",
      "cuda_available\n",
      "63\n",
      "data_loader\n",
      "60\n",
      "datasets\n",
      "57\n",
      "download_url\n",
      "61\n",
      "evaluate_ofa_specialized\n",
      "73\n",
      "evaluate_ofa_subnet\n",
      "68\n",
      "exit\n",
      "53\n",
      "file\n",
      "53\n",
      "get_ipython\n",
      "60\n",
      "imagenet_data_path\n",
      "67\n",
      "init_latencys\n",
      "62\n",
      "latency_list\n",
      "61\n",
      "math\n",
      "53\n",
      "mylist\n",
      "55\n",
      "net_config\n",
      "59\n",
      "nn\n",
      "51\n",
      "np\n",
      "51\n",
      "ofa_net\n",
      "56\n",
      "ofa_network\n",
      "60\n",
      "os\n",
      "51\n",
      "p\n",
      "50\n",
      "parameters\n",
      "59\n",
      "pickle\n",
      "55\n",
      "plt\n",
      "52\n",
      "quit\n",
      "53\n",
      "random\n",
      "55\n",
      "random_seed\n",
      "60\n",
      "result\n",
      "55\n",
      "sys\n",
      "52\n",
      "time\n",
      "53\n",
      "top1s\n",
      "54\n",
      "torch\n",
      "54\n",
      "transforms\n",
      "59\n"
     ]
    }
   ],
   "source": [
    "import sys\n",
    "for p in parameters:\n",
    "    print(p)\n",
    "    print(sys.getsizeof(p))\n",
    "    "
   ]
  },
  {
   "cell_type": "code",
   "execution_count": 17,
   "metadata": {},
   "outputs": [
    {
     "name": "stdout",
     "output_type": "stream",
     "text": [
      "{'wid': None, 'ks': [5, 5, 3, 5, 7, 3, 7, 3, 7, 7, 3, 7, 5, 5, 7, 3, 7, 7, 5, 3], 'e': [4, 4, 4, 3, 6, 6, 4, 6, 4, 6, 6, 6, 6, 6, 6, 4, 6, 6, 6, 4], 'd': [3, 4, 4, 4, 4], 'r': [224]}\n"
     ]
    }
   ],
   "source": [
    "import pickle\n",
    "mylist=[]\n",
    "file=open(r\"/home/lewislou/OFAorigin/tutorial/subnetsearch/picked_subnets/nets_7.pickle\",\"rb\")\n",
    "mylist=pickle.load(file) #读取文件到list\\\n",
    "file.close\n",
    "result=[]\n",
    "file=open(r\"bn5.pickle\",\"rb\")\n",
    "result=pickle.load(file) #读取文件到list\n",
    "file.close\n",
    "bn_list = result['bn_list']\n",
    "top1s = []\n",
    "latency_list = []\n",
    "init_latencys = []\n",
    "\n",
    "net_config = mylist['configs'][5]\n",
    "print(net_config)"
   ]
  },
  {
   "cell_type": "code",
   "execution_count": 10,
   "metadata": {},
   "outputs": [
    {
     "data": {
      "text/plain": [
       "['In',\n",
       " 'Out',\n",
       " '_',\n",
       " '_1',\n",
       " '_2',\n",
       " '__',\n",
       " '___',\n",
       " '__builtin__',\n",
       " '__builtins__',\n",
       " '__doc__',\n",
       " '__loader__',\n",
       " '__name__',\n",
       " '__package__',\n",
       " '__spec__',\n",
       " '_dh',\n",
       " '_i',\n",
       " '_i1',\n",
       " '_i10',\n",
       " '_i2',\n",
       " '_i3',\n",
       " '_i4',\n",
       " '_i5',\n",
       " '_i6',\n",
       " '_i7',\n",
       " '_i8',\n",
       " '_i9',\n",
       " '_ih',\n",
       " '_ii',\n",
       " '_iii',\n",
       " '_oh',\n",
       " 'bn_list',\n",
       " 'build_val_transform',\n",
       " 'copy',\n",
       " 'cuda_available',\n",
       " 'data_loader',\n",
       " 'datasets',\n",
       " 'download_url',\n",
       " 'evaluate_ofa_specialized',\n",
       " 'evaluate_ofa_subnet',\n",
       " 'exit',\n",
       " 'file',\n",
       " 'get_ipython',\n",
       " 'imagenet_data_path',\n",
       " 'init_latencys',\n",
       " 'latency_list',\n",
       " 'math',\n",
       " 'mylist',\n",
       " 'net_config',\n",
       " 'nn',\n",
       " 'np',\n",
       " 'ofa_net',\n",
       " 'ofa_network',\n",
       " 'os',\n",
       " 'p',\n",
       " 'parameters',\n",
       " 'pickle',\n",
       " 'plt',\n",
       " 'quit',\n",
       " 'random',\n",
       " 'random_seed',\n",
       " 'result',\n",
       " 'sys',\n",
       " 'time',\n",
       " 'top1s',\n",
       " 'torch',\n",
       " 'transforms']"
      ]
     },
     "execution_count": 10,
     "metadata": {},
     "output_type": "execute_result"
    }
   ],
   "source": [
    "dir()"
   ]
  },
  {
   "cell_type": "code",
   "execution_count": null,
   "metadata": {},
   "outputs": [],
   "source": [
    "continuing = True\n",
    "top1 = 0\n",
    "level = 5\n",
    "while continuing:\n",
    "    try:\n",
    "        top1,latency,init_latency= evaluate_ofa_subnet(\n",
    "            ofa_network,\n",
    "            imagenet_data_path,\n",
    "            net_config,\n",
    "            data_loader,\n",
    "            batch_size=16,\n",
    "            bn_list = bn_list[0])\n",
    "        \n",
    "    except:\n",
    "        if level > 1:\n",
    "            level -= 1\n",
    "            net_config = []\n",
    "            net_config = mylist['configs'][level]\n",
    "            result=[]\n",
    "            file=open('bn'+str(level)+'.pickle',\"rb\")\n",
    "            result=pickle.load(file) #读取文件到list\n",
    "            bn_list = result['bn_list']\n",
    "            print('Use new network level',level)\n",
    "        else:\n",
    "            break\n",
    "    if top1 != 0:\n",
    "        break\n",
    "print('init_latency and inference latency',init_latency,latency)\n",
    "        \n"
   ]
  },
  {
   "cell_type": "code",
   "execution_count": 3,
   "metadata": {},
   "outputs": [
    {
     "name": "stdout",
     "output_type": "stream",
     "text": [
      "Creating dataloader for resetting BN running statistics...\n",
      "start validatiuon\n",
      "Start inference\n",
      "Current memory allocated percentage 73.7\n"
     ]
    },
    {
     "ename": "RuntimeError",
     "evalue": "Memory out",
     "output_type": "error",
     "traceback": [
      "\u001b[0;31m---------------------------------------------------------------------------\u001b[0m",
      "\u001b[0;31mRuntimeError\u001b[0m                              Traceback (most recent call last)",
      "\u001b[0;32m<ipython-input-3-fa107880cf1d>\u001b[0m in \u001b[0;36m<module>\u001b[0;34m\u001b[0m\n\u001b[1;32m      5\u001b[0m             \u001b[0mdata_loader\u001b[0m\u001b[0;34m,\u001b[0m\u001b[0;34m\u001b[0m\u001b[0;34m\u001b[0m\u001b[0m\n\u001b[1;32m      6\u001b[0m             \u001b[0mbatch_size\u001b[0m\u001b[0;34m=\u001b[0m\u001b[0;36m16\u001b[0m\u001b[0;34m,\u001b[0m\u001b[0;34m\u001b[0m\u001b[0;34m\u001b[0m\u001b[0m\n\u001b[0;32m----> 7\u001b[0;31m             bn_list = bn_list[0])\n\u001b[0m",
      "\u001b[0;32m~/OFAorigin/tutorial/experiment/imagenet_eval_helper.py\u001b[0m in \u001b[0;36mevaluate_ofa_subnet\u001b[0;34m(ofa_net, path, net_config, data_loader, batch_size, bn_list, device)\u001b[0m\n\u001b[1;32m     40\u001b[0m     \u001b[0mprint\u001b[0m\u001b[0;34m(\u001b[0m\u001b[0;34m'start validatiuon'\u001b[0m\u001b[0;34m)\u001b[0m\u001b[0;34m\u001b[0m\u001b[0;34m\u001b[0m\u001b[0m\n\u001b[1;32m     41\u001b[0m \u001b[0;34m\u001b[0m\u001b[0m\n\u001b[0;32m---> 42\u001b[0;31m     \u001b[0mtop1\u001b[0m\u001b[0;34m,\u001b[0m\u001b[0mlatency\u001b[0m \u001b[0;34m=\u001b[0m \u001b[0mvalidate\u001b[0m\u001b[0;34m(\u001b[0m\u001b[0msubnet\u001b[0m\u001b[0;34m,\u001b[0m \u001b[0mpath\u001b[0m\u001b[0;34m,\u001b[0m \u001b[0mnet_config\u001b[0m\u001b[0;34m[\u001b[0m\u001b[0;34m'r'\u001b[0m\u001b[0;34m]\u001b[0m\u001b[0;34m[\u001b[0m\u001b[0;36m0\u001b[0m\u001b[0;34m]\u001b[0m\u001b[0;34m,\u001b[0m \u001b[0mdata_loader\u001b[0m\u001b[0;34m,\u001b[0m \u001b[0mbatch_size\u001b[0m\u001b[0;34m,\u001b[0m \u001b[0mdevice\u001b[0m\u001b[0;34m=\u001b[0m\u001b[0;34m'cuda:0'\u001b[0m\u001b[0;34m)\u001b[0m\u001b[0;34m\u001b[0m\u001b[0;34m\u001b[0m\u001b[0m\n\u001b[0m\u001b[1;32m     43\u001b[0m \u001b[0;34m\u001b[0m\u001b[0m\n\u001b[1;32m     44\u001b[0m \u001b[0;34m\u001b[0m\u001b[0m\n",
      "\u001b[0;32m~/OFAorigin/tutorial/experiment/imagenet_eval_helper.py\u001b[0m in \u001b[0;36mvalidate\u001b[0;34m(net, path, image_size, data_loader, batch_size, device)\u001b[0m\n\u001b[1;32m    129\u001b[0m             \u001b[0mprint\u001b[0m\u001b[0;34m(\u001b[0m\u001b[0;34m'Current memory allocated percentage'\u001b[0m\u001b[0;34m,\u001b[0m\u001b[0musage\u001b[0m\u001b[0;34m)\u001b[0m\u001b[0;34m\u001b[0m\u001b[0;34m\u001b[0m\u001b[0m\n\u001b[1;32m    130\u001b[0m             \u001b[0;32mif\u001b[0m \u001b[0musage\u001b[0m \u001b[0;34m>\u001b[0m \u001b[0;36m70\u001b[0m\u001b[0;34m:\u001b[0m\u001b[0;34m\u001b[0m\u001b[0;34m\u001b[0m\u001b[0m\n\u001b[0;32m--> 131\u001b[0;31m                 \u001b[0;32mreturn\u001b[0m \u001b[0;36m0\u001b[0m\u001b[0;34m,\u001b[0m\u001b[0;36m0\u001b[0m\u001b[0;34m\u001b[0m\u001b[0;34m\u001b[0m\u001b[0m\n\u001b[0m\u001b[1;32m    132\u001b[0m                 \u001b[0;31m#raise RuntimeError('Memory out')\u001b[0m\u001b[0;34m\u001b[0m\u001b[0;34m\u001b[0m\u001b[0;34m\u001b[0m\u001b[0m\n\u001b[1;32m    133\u001b[0m             \u001b[0mprint\u001b[0m\u001b[0;34m(\u001b[0m\u001b[0;34m'Current memory allocated'\u001b[0m\u001b[0;34m,\u001b[0m\u001b[0mmonitor\u001b[0m\u001b[0;34m)\u001b[0m\u001b[0;34m\u001b[0m\u001b[0;34m\u001b[0m\u001b[0m\n",
      "\u001b[0;31mRuntimeError\u001b[0m: Memory out"
     ]
    }
   ],
   "source": [
    "top1,latency,init_latency= evaluate_ofa_subnet(\n",
    "            ofa_network,\n",
    "            imagenet_data_path,\n",
    "            net_config,\n",
    "            data_loader,\n",
    "            batch_size=16,\n",
    "            bn_list = bn_list[0])"
   ]
  },
  {
   "cell_type": "code",
   "execution_count": 6,
   "metadata": {},
   "outputs": [],
   "source": [
    "pid = os.getpid()"
   ]
  },
  {
   "cell_type": "code",
   "execution_count": 10,
   "metadata": {},
   "outputs": [
    {
     "data": {
      "text/plain": [
       "24303"
      ]
     },
     "execution_count": 10,
     "metadata": {},
     "output_type": "execute_result"
    }
   ],
   "source": [
    "pid"
   ]
  },
  {
   "cell_type": "code",
   "execution_count": null,
   "metadata": {},
   "outputs": [],
   "source": [
    "!kill 24303"
   ]
  },
  {
   "cell_type": "code",
   "execution_count": null,
   "metadata": {},
   "outputs": [],
   "source": [
    "torch.cuda.memory_allocated()"
   ]
  },
  {
   "cell_type": "code",
   "execution_count": null,
   "metadata": {},
   "outputs": [],
   "source": [
    "torch.cuda.memory_cached()"
   ]
  },
  {
   "cell_type": "code",
   "execution_count": null,
   "metadata": {},
   "outputs": [],
   "source": [
    "import gc\n",
    "import pickle\n",
    "mylist=[]\n",
    "file=open(r\"/home/lewislou/OFAorigin/tutorial/subnetsearch/picked_subnets/nets_7.pickle\",\"rb\")\n",
    "mylist=pickle.load(file) #读取文件到list\\\n",
    "file.close\n",
    "net_config = mylist['configs'][0]"
   ]
  },
  {
   "cell_type": "code",
   "execution_count": null,
   "metadata": {},
   "outputs": [],
   "source": [
    "file=open(r\"bn0.pickle\",\"rb\")\n",
    "result=pickle.load(file) #读取文件到list\n",
    "file.close\n",
    "bn_list = result['bn_list']"
   ]
  },
  {
   "cell_type": "code",
   "execution_count": null,
   "metadata": {},
   "outputs": [],
   "source": [
    "del file\n",
    "gc.collect()"
   ]
  },
  {
   "cell_type": "code",
   "execution_count": null,
   "metadata": {},
   "outputs": [],
   "source": [
    "import psutil\n",
    "import os\n",
    "psutil.Process(os.getpid()).memory_info().rss"
   ]
  },
  {
   "cell_type": "code",
   "execution_count": null,
   "metadata": {},
   "outputs": [],
   "source": [
    "psutil.virtual_memory().percent"
   ]
  },
  {
   "cell_type": "code",
   "execution_count": null,
   "metadata": {},
   "outputs": [],
   "source": []
  }
 ],
 "metadata": {
  "kernelspec": {
   "display_name": "Python 3",
   "language": "python",
   "name": "python3"
  },
  "language_info": {
   "codemirror_mode": {
    "name": "ipython",
    "version": 3
   },
   "file_extension": ".py",
   "mimetype": "text/x-python",
   "name": "python",
   "nbconvert_exporter": "python",
   "pygments_lexer": "ipython3",
   "version": "3.6.9"
  }
 },
 "nbformat": 4,
 "nbformat_minor": 4
}
