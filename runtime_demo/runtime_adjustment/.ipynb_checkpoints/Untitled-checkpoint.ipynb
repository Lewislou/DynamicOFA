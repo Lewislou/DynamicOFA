{
 "cells": [
  {
   "cell_type": "code",
   "execution_count": 7,
   "metadata": {},
   "outputs": [
    {
     "name": "stdout",
     "output_type": "stream",
     "text": [
      "Successfully imported all packages and configured random seed to 1!\n",
      "The OFA Network is ready.\n",
      "Using GPU.\n",
      "The ImageNet dataloader is ready.\n"
     ]
    },
    {
     "ename": "TypeError",
     "evalue": "list indices must be integers or slices, not str",
     "output_type": "error",
     "traceback": [
      "\u001b[0;31m---------------------------------------------------------------------------\u001b[0m",
      "\u001b[0;31mTypeError\u001b[0m                                 Traceback (most recent call last)",
      "\u001b[0;32m<ipython-input-7-d5439ba0b658>\u001b[0m in \u001b[0;36m<module>\u001b[0;34m\u001b[0m\n\u001b[1;32m     73\u001b[0m \u001b[0minit_latencys\u001b[0m \u001b[0;34m=\u001b[0m \u001b[0;34m[\u001b[0m\u001b[0;34m]\u001b[0m\u001b[0;34m\u001b[0m\u001b[0;34m\u001b[0m\u001b[0m\n\u001b[1;32m     74\u001b[0m \u001b[0mbn_lists\u001b[0m \u001b[0;34m=\u001b[0m \u001b[0;34m[\u001b[0m\u001b[0;34m]\u001b[0m\u001b[0;34m\u001b[0m\u001b[0;34m\u001b[0m\u001b[0m\n\u001b[0;32m---> 75\u001b[0;31m \u001b[0mnet_config\u001b[0m \u001b[0;34m=\u001b[0m \u001b[0mmylist\u001b[0m\u001b[0;34m[\u001b[0m\u001b[0;34m'configs'\u001b[0m\u001b[0;34m]\u001b[0m\u001b[0;34m[\u001b[0m\u001b[0;36m6\u001b[0m\u001b[0;34m]\u001b[0m\u001b[0;34m\u001b[0m\u001b[0;34m\u001b[0m\u001b[0m\n\u001b[0m\u001b[1;32m     76\u001b[0m \u001b[0m_\u001b[0m\u001b[0;34m,\u001b[0m \u001b[0mnet_config\u001b[0m\u001b[0;34m,\u001b[0m \u001b[0mlatency\u001b[0m \u001b[0;34m=\u001b[0m \u001b[0mresult\u001b[0m\u001b[0;34m\u001b[0m\u001b[0;34m\u001b[0m\u001b[0m\n\u001b[1;32m     77\u001b[0m top1,latency,init_latency,bn_list= evaluate_ofa_subnet(\n",
      "\u001b[0;31mTypeError\u001b[0m: list indices must be integers or slices, not str"
     ]
    }
   ],
   "source": [
    "# In[ ]:\n",
    "\n",
    "\n",
    "import os\n",
    "import torch\n",
    "import torch.nn as nn\n",
    "from torchvision import transforms, datasets\n",
    "import numpy as np\n",
    "import time\n",
    "import random\n",
    "import math\n",
    "import copy\n",
    "from matplotlib import pyplot as plt\n",
    "\n",
    "from ofa.model_zoo import ofa_net\n",
    "from ofa.utils import download_url\n",
    "\n",
    "#from subnetfinder import EvolutionFinder\n",
    "from imagenet_eval_helper import evaluate_ofa_subnet, evaluate_ofa_specialized\n",
    "#os.environ['CUDA_VISIBLE_DEVICES'] = '1,2,3'\n",
    "# set random seed\n",
    "random_seed = 1\n",
    "random.seed(random_seed)\n",
    "np.random.seed(random_seed)\n",
    "torch.manual_seed(random_seed)\n",
    "print('Successfully imported all packages and configured random seed to %d!'%random_seed)\n",
    "ofa_network = ofa_net('ofa_mbv3_d234_e346_k357_w1.2', pretrained=True)\n",
    "print('The OFA Network is ready.')\n",
    "\n",
    "cuda_available = torch.cuda.is_available()\n",
    "if cuda_available:\n",
    "    torch.backends.cudnn.enabled = True\n",
    "    torch.backends.cudnn.benchmark = True\n",
    "    torch.cuda.manual_seed(random_seed)\n",
    "    print('Using GPU.')\n",
    "else:\n",
    "    print('Using CPU.')\n",
    "\n",
    "imagenet_data_path = '/home/lewislou/data/testing'\n",
    "#imagenet_data_path = '/home/lewislou/data/imagenet'\n",
    "def build_val_transform(size):\n",
    "    return transforms.Compose([\n",
    "        transforms.Resize(int(math.ceil(size / 0.875))),\n",
    "        transforms.CenterCrop(size),\n",
    "        transforms.ToTensor(),\n",
    "        transforms.Normalize(\n",
    "            mean=[0.485, 0.456, 0.406],\n",
    "            std=[0.229, 0.224, 0.225]\n",
    "        ),\n",
    "    ])\n",
    "\n",
    "data_loader = torch.utils.data.DataLoader(\n",
    "    datasets.ImageFolder(\n",
    "        root=os.path.join(imagenet_data_path, 'val'),\n",
    "        transform=build_val_transform(224)\n",
    "        ),\n",
    "    batch_size=16,  # test batch size\n",
    "    shuffle=False,\n",
    "    #num_workers=16,  # number of workers for the data loader\n",
    "    pin_memory=False,\n",
    "    drop_last=False,\n",
    "    )\n",
    "\n",
    "print('The ImageNet dataloader is ready.')\n",
    "data_loader.dataset\n",
    "import pickle\n",
    "mylist=[]\n",
    "file=open(r\"/home/lewislou/OFAorigin/tutorial/subnetsearch/picked_subnets/nets_7.pickle\",\"rb\")\n",
    "mylist=pickle.load(file) #读取文件到list\\\n",
    "\n",
    "top1s = []\n",
    "latency_list = []\n",
    "init_latencys = []\n",
    "bn_lists = []\n",
    "net_config = mylist['configs'][6]\n",
    "_, net_config, latency = result\n",
    "top1,latency,init_latency,bn_list= evaluate_ofa_subnet(\n",
    "    ofa_network,\n",
    "    imagenet_data_path,\n",
    "    net_config,\n",
    "    data_loader,\n",
    "    batch_size=16)\n",
    "\n",
    "print('init_latency and inference latency',init_latency,latency)\n"
   ]
  },
  {
   "cell_type": "code",
   "execution_count": 4,
   "metadata": {},
   "outputs": [],
   "source": [
    "import pickle\n",
    "mylist=[]\n",
    "file=open(r\"/home/lewislou/OFAorigin/tutorial/subnetsearch/picked_subnets/nets_7.pickle\",\"rb\")\n",
    "mylist=pickle.load(file) #读取文件到list\\"
   ]
  },
  {
   "cell_type": "code",
   "execution_count": 6,
   "metadata": {},
   "outputs": [
    {
     "data": {
      "text/plain": [
       "{'wid': None,\n",
       " 'ks': [5, 5, 5, 5, 5, 7, 7, 3, 5, 7, 7, 7, 7, 7, 5, 5, 7, 5, 5, 5],\n",
       " 'e': [6, 6, 6, 6, 6, 6, 4, 6, 6, 4, 6, 6, 6, 6, 6, 6, 6, 6, 6, 3],\n",
       " 'd': [4, 4, 4, 4, 4],\n",
       " 'r': [224]}"
      ]
     },
     "execution_count": 6,
     "metadata": {},
     "output_type": "execute_result"
    }
   ],
   "source": [
    "mylist['configs'][6]"
   ]
  },
  {
   "cell_type": "code",
   "execution_count": null,
   "metadata": {},
   "outputs": [],
   "source": []
  }
 ],
 "metadata": {
  "kernelspec": {
   "display_name": "Python 3",
   "language": "python",
   "name": "python3"
  },
  "language_info": {
   "codemirror_mode": {
    "name": "ipython",
    "version": 3
   },
   "file_extension": ".py",
   "mimetype": "text/x-python",
   "name": "python",
   "nbconvert_exporter": "python",
   "pygments_lexer": "ipython3",
   "version": "3.6.9"
  }
 },
 "nbformat": 4,
 "nbformat_minor": 4
}
